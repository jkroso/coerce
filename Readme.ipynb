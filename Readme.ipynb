{
 "metadata": {
  "language": "Julia",
  "name": "",
  "signature": "sha256:40215864dbfd04384675c86e956cd4cab7369f70bf4541cddfb16138a4bf1030"
 },
 "nbformat": 3,
 "nbformat_minor": 0,
 "worksheets": [
  {
   "cells": [
    {
     "cell_type": "markdown",
     "metadata": {},
     "source": [
      "# coerce\n",
      "\n",
      "Aggresively convert values of one type to another\n",
      "\n",
      "## Installation\n",
      "\n",
      "With [packin](//github.com/jkroso/packin): `packin add jkroso/coerce`"
     ]
    },
    {
     "cell_type": "code",
     "collapsed": false,
     "input": [
      "@require \"coerce\" coerce;"
     ],
     "language": "python",
     "metadata": {},
     "outputs": [],
     "prompt_number": 1
    },
    {
     "cell_type": "markdown",
     "metadata": {},
     "source": [
      "## API\n",
      "\n",
      "### coerce(T::DataType, value)\n",
      "\n",
      "Convert `value` of any type to be of type `T`"
     ]
    },
    {
     "cell_type": "code",
     "collapsed": false,
     "input": [
      "coerce(FloatingPoint, 1)"
     ],
     "language": "python",
     "metadata": {},
     "outputs": [
      {
       "metadata": {},
       "output_type": "pyout",
       "prompt_number": 2,
       "text": [
        "1.0"
       ]
      }
     ],
     "prompt_number": 2
    },
    {
     "cell_type": "code",
     "collapsed": false,
     "input": [
      "coerce(FloatingPoint, \"1\")"
     ],
     "language": "python",
     "metadata": {},
     "outputs": [
      {
       "metadata": {},
       "output_type": "pyout",
       "prompt_number": 3,
       "text": [
        "1.0"
       ]
      }
     ],
     "prompt_number": 3
    },
    {
     "cell_type": "markdown",
     "metadata": {},
     "source": [
      "### coerce(f::Function)\n",
      "\n",
      "Wrap `f` so it can take arguments of any type and convert them to the correct type before calling `f`"
     ]
    },
    {
     "cell_type": "code",
     "collapsed": true,
     "input": [
      "coerce((n::Int)->n)(\"1\")"
     ],
     "language": "python",
     "metadata": {},
     "outputs": [
      {
       "metadata": {},
       "output_type": "pyout",
       "prompt_number": 4,
       "text": [
        "1"
       ]
      }
     ],
     "prompt_number": 4
    },
    {
     "cell_type": "code",
     "collapsed": false,
     "input": [
      "coerce((a::Int,b::Int)->a+b)(1.0,\"2\")"
     ],
     "language": "python",
     "metadata": {},
     "outputs": [
      {
       "metadata": {},
       "output_type": "pyout",
       "prompt_number": 5,
       "text": [
        "3"
       ]
      }
     ],
     "prompt_number": 5
    }
   ],
   "metadata": {}
  }
 ]
}